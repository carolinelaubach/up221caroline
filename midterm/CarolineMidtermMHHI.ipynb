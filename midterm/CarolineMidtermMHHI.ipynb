{
 "cells": [
  {
   "cell_type": "markdown",
   "id": "51458b02-01b5-4fac-9ed0-aa70d45c741a",
   "metadata": {},
   "source": [
    "# Using ACS 5-Year Estimate Median Household Income Data from LA County to visualize wealth stratification.\n",
    "## Does wealth stratification in LA County have any visual geospatial correlations with coast live oak locations? What are the intersections between wealth and access to green space, specifically green space with native flora like the coast live oak and live oak?"
   ]
  },
  {
   "cell_type": "markdown",
   "id": "36097d59-dd3c-42da-9cdb-0d9efd583078",
   "metadata": {},
   "source": [
    "#### We begin with initial data exploration "
   ]
  },
  {
   "cell_type": "code",
   "execution_count": 29,
   "id": "506f01e7-a5f6-4278-85bc-5076733667ef",
   "metadata": {},
   "outputs": [],
   "source": [
    "import pandas as pd\n",
    "import geopandas as gpd"
   ]
  },
  {
   "cell_type": "code",
   "execution_count": 3,
   "id": "e4eacb37-660a-462e-a9f5-11e4eb63f04f",
   "metadata": {},
   "outputs": [],
   "source": [
    "incomedf = pd.read_csv('Group Data/MedianHHI.csv')"
   ]
  },
  {
   "cell_type": "code",
   "execution_count": 5,
   "id": "3e1435d1-81ea-412b-8ac3-bca75b10625e",
   "metadata": {},
   "outputs": [
    {
     "name": "stdout",
     "output_type": "stream",
     "text": [
      "<class 'pandas.core.frame.DataFrame'>\n",
      "RangeIndex: 2498 entries, 0 to 2497\n",
      "Data columns (total 14 columns):\n",
      " #   Column                Non-Null Count  Dtype \n",
      "---  ------                --------------  ----- \n",
      " 0   GeoID                 2498 non-null   int64 \n",
      " 1   TotalHH               2498 non-null   int64 \n",
      " 2   Under10k              2498 non-null   object\n",
      " 3   $10,000 to $14,999    2498 non-null   object\n",
      " 4   $15,000 to $24,999    2498 non-null   object\n",
      " 5   $25,000 to $34,999    2498 non-null   object\n",
      " 6   $35,000 to $49,999    2498 non-null   object\n",
      " 7   $50,000 to $74,999    2498 non-null   object\n",
      " 8   $75,000 to $99,999    2498 non-null   object\n",
      " 9   $100,000 to $149,999  2498 non-null   object\n",
      " 10  $150,000 to $199,999  2498 non-null   object\n",
      " 11  $200,000 or more      2498 non-null   object\n",
      " 12  Median income         2498 non-null   object\n",
      " 13  Mean income           2498 non-null   object\n",
      "dtypes: int64(2), object(12)\n",
      "memory usage: 273.3+ KB\n"
     ]
    }
   ],
   "source": [
    "# this will help with column id\n",
    "incomedf.info(verbose=True, show_counts=True)"
   ]
  },
  {
   "cell_type": "code",
   "execution_count": 6,
   "id": "b904eaf6-b439-4f23-a48e-6ccf3e2147af",
   "metadata": {},
   "outputs": [
    {
     "data": {
      "text/html": [
       "<div>\n",
       "<style scoped>\n",
       "    .dataframe tbody tr th:only-of-type {\n",
       "        vertical-align: middle;\n",
       "    }\n",
       "\n",
       "    .dataframe tbody tr th {\n",
       "        vertical-align: top;\n",
       "    }\n",
       "\n",
       "    .dataframe thead th {\n",
       "        text-align: right;\n",
       "    }\n",
       "</style>\n",
       "<table border=\"1\" class=\"dataframe\">\n",
       "  <thead>\n",
       "    <tr style=\"text-align: right;\">\n",
       "      <th></th>\n",
       "      <th>GeoID</th>\n",
       "      <th>TotalHH</th>\n",
       "      <th>Under10k</th>\n",
       "      <th>$10,000 to $14,999</th>\n",
       "      <th>$15,000 to $24,999</th>\n",
       "      <th>$25,000 to $34,999</th>\n",
       "      <th>$35,000 to $49,999</th>\n",
       "      <th>$50,000 to $74,999</th>\n",
       "      <th>$75,000 to $99,999</th>\n",
       "      <th>$100,000 to $149,999</th>\n",
       "      <th>$150,000 to $199,999</th>\n",
       "      <th>$200,000 or more</th>\n",
       "      <th>Median income</th>\n",
       "      <th>Mean income</th>\n",
       "    </tr>\n",
       "  </thead>\n",
       "  <tbody>\n",
       "    <tr>\n",
       "      <th>0</th>\n",
       "      <td>6037101110</td>\n",
       "      <td>1551</td>\n",
       "      <td>4.3</td>\n",
       "      <td>6.2</td>\n",
       "      <td>6.8</td>\n",
       "      <td>5.7</td>\n",
       "      <td>11</td>\n",
       "      <td>19</td>\n",
       "      <td>6.6</td>\n",
       "      <td>21</td>\n",
       "      <td>7.9</td>\n",
       "      <td>11.4</td>\n",
       "      <td>68972</td>\n",
       "      <td>94342</td>\n",
       "    </tr>\n",
       "    <tr>\n",
       "      <th>1</th>\n",
       "      <td>6037101122</td>\n",
       "      <td>1383</td>\n",
       "      <td>6.1</td>\n",
       "      <td>0</td>\n",
       "      <td>3.7</td>\n",
       "      <td>3.5</td>\n",
       "      <td>1</td>\n",
       "      <td>17.3</td>\n",
       "      <td>12.5</td>\n",
       "      <td>20.5</td>\n",
       "      <td>14.8</td>\n",
       "      <td>20.7</td>\n",
       "      <td>118859</td>\n",
       "      <td>146666</td>\n",
       "    </tr>\n",
       "    <tr>\n",
       "      <th>2</th>\n",
       "      <td>6037101220</td>\n",
       "      <td>1349</td>\n",
       "      <td>6.3</td>\n",
       "      <td>4.5</td>\n",
       "      <td>7.4</td>\n",
       "      <td>3.6</td>\n",
       "      <td>12.6</td>\n",
       "      <td>21.5</td>\n",
       "      <td>12.8</td>\n",
       "      <td>11.3</td>\n",
       "      <td>9.6</td>\n",
       "      <td>10.5</td>\n",
       "      <td>65139</td>\n",
       "      <td>98721</td>\n",
       "    </tr>\n",
       "    <tr>\n",
       "      <th>3</th>\n",
       "      <td>6037101221</td>\n",
       "      <td>1424</td>\n",
       "      <td>5.9</td>\n",
       "      <td>6.3</td>\n",
       "      <td>13.7</td>\n",
       "      <td>9.3</td>\n",
       "      <td>11.6</td>\n",
       "      <td>16.9</td>\n",
       "      <td>10.5</td>\n",
       "      <td>14.4</td>\n",
       "      <td>7.8</td>\n",
       "      <td>3.6</td>\n",
       "      <td>53348</td>\n",
       "      <td>69670</td>\n",
       "    </tr>\n",
       "    <tr>\n",
       "      <th>4</th>\n",
       "      <td>6037101222</td>\n",
       "      <td>928</td>\n",
       "      <td>7.3</td>\n",
       "      <td>19.6</td>\n",
       "      <td>9.6</td>\n",
       "      <td>9.5</td>\n",
       "      <td>10.6</td>\n",
       "      <td>5</td>\n",
       "      <td>11.5</td>\n",
       "      <td>17.6</td>\n",
       "      <td>3.8</td>\n",
       "      <td>5.6</td>\n",
       "      <td>36779</td>\n",
       "      <td>67587</td>\n",
       "    </tr>\n",
       "  </tbody>\n",
       "</table>\n",
       "</div>"
      ],
      "text/plain": [
       "        GeoID  TotalHH Under10k $10,000 to $14,999 $15,000 to $24,999  \\\n",
       "0  6037101110     1551      4.3                6.2                6.8   \n",
       "1  6037101122     1383      6.1                  0                3.7   \n",
       "2  6037101220     1349      6.3                4.5                7.4   \n",
       "3  6037101221     1424      5.9                6.3               13.7   \n",
       "4  6037101222      928      7.3               19.6                9.6   \n",
       "\n",
       "  $25,000 to $34,999 $35,000 to $49,999 $50,000 to $74,999 $75,000 to $99,999  \\\n",
       "0                5.7                 11                 19                6.6   \n",
       "1                3.5                  1               17.3               12.5   \n",
       "2                3.6               12.6               21.5               12.8   \n",
       "3                9.3               11.6               16.9               10.5   \n",
       "4                9.5               10.6                  5               11.5   \n",
       "\n",
       "  $100,000 to $149,999 $150,000 to $199,999 $200,000 or more Median income  \\\n",
       "0                   21                  7.9             11.4         68972   \n",
       "1                 20.5                 14.8             20.7        118859   \n",
       "2                 11.3                  9.6             10.5         65139   \n",
       "3                 14.4                  7.8              3.6         53348   \n",
       "4                 17.6                  3.8              5.6         36779   \n",
       "\n",
       "  Mean income  \n",
       "0       94342  \n",
       "1      146666  \n",
       "2       98721  \n",
       "3       69670  \n",
       "4       67587  "
      ]
     },
     "execution_count": 6,
     "metadata": {},
     "output_type": "execute_result"
    }
   ],
   "source": [
    "incomedf.head()"
   ]
  },
  {
   "cell_type": "code",
   "execution_count": 15,
   "id": "f961c051-1972-424d-aac2-312d3d50a5a4",
   "metadata": {},
   "outputs": [
    {
     "data": {
      "text/plain": [
       "count     2498\n",
       "unique    2329\n",
       "top          -\n",
       "freq        49\n",
       "Name: Median income, dtype: object"
      ]
     },
     "execution_count": 15,
     "metadata": {},
     "output_type": "execute_result"
    }
   ],
   "source": [
    "incomedf['Median income'].describe()"
   ]
  },
  {
   "cell_type": "markdown",
   "id": "7d748e0a-5362-49ea-889b-d1a21888430b",
   "metadata": {},
   "source": [
    "I am going to use a sorted version of the data (tract ID (labeled as GeoID) and median household income)that I want to use going forward:"
   ]
  },
  {
   "cell_type": "code",
   "execution_count": 13,
   "id": "df3abbff-b187-4669-935f-701cebc823fd",
   "metadata": {},
   "outputs": [],
   "source": [
    "subsetdf = incomedf[['GeoID', 'Median income']]"
   ]
  },
  {
   "cell_type": "code",
   "execution_count": 26,
   "id": "73f06919-c486-44c0-8d97-34a12a4fe3d3",
   "metadata": {},
   "outputs": [
    {
     "data": {
      "text/html": [
       "<div>\n",
       "<style scoped>\n",
       "    .dataframe tbody tr th:only-of-type {\n",
       "        vertical-align: middle;\n",
       "    }\n",
       "\n",
       "    .dataframe tbody tr th {\n",
       "        vertical-align: top;\n",
       "    }\n",
       "\n",
       "    .dataframe thead th {\n",
       "        text-align: right;\n",
       "    }\n",
       "</style>\n",
       "<table border=\"1\" class=\"dataframe\">\n",
       "  <thead>\n",
       "    <tr style=\"text-align: right;\">\n",
       "      <th></th>\n",
       "      <th>GeoID</th>\n",
       "      <th>Median income</th>\n",
       "    </tr>\n",
       "  </thead>\n",
       "  <tbody>\n",
       "    <tr>\n",
       "      <th>0</th>\n",
       "      <td>6037101110</td>\n",
       "      <td>68972</td>\n",
       "    </tr>\n",
       "    <tr>\n",
       "      <th>1</th>\n",
       "      <td>6037101122</td>\n",
       "      <td>118859</td>\n",
       "    </tr>\n",
       "    <tr>\n",
       "      <th>2</th>\n",
       "      <td>6037101220</td>\n",
       "      <td>65139</td>\n",
       "    </tr>\n",
       "    <tr>\n",
       "      <th>3</th>\n",
       "      <td>6037101221</td>\n",
       "      <td>53348</td>\n",
       "    </tr>\n",
       "    <tr>\n",
       "      <th>4</th>\n",
       "      <td>6037101222</td>\n",
       "      <td>36779</td>\n",
       "    </tr>\n",
       "  </tbody>\n",
       "</table>\n",
       "</div>"
      ],
      "text/plain": [
       "        GeoID Median income\n",
       "0  6037101110         68972\n",
       "1  6037101122        118859\n",
       "2  6037101220         65139\n",
       "3  6037101221         53348\n",
       "4  6037101222         36779"
      ]
     },
     "execution_count": 26,
     "metadata": {},
     "output_type": "execute_result"
    }
   ],
   "source": [
    "subsetdf.head()"
   ]
  },
  {
   "cell_type": "markdown",
   "id": "7ac2cc70-d044-4fbb-a365-6f71b25e2202",
   "metadata": {},
   "source": [
    "Now that I have the data that I need (tract ID and median household income), it is time for charts and plots. But first I need to convert median income from obeject to numeric"
   ]
  },
  {
   "cell_type": "code",
   "execution_count": 30,
   "id": "6b67d49e-78ff-4f63-b1c7-b9c558dbffa2",
   "metadata": {},
   "outputs": [
    {
     "name": "stdout",
     "output_type": "stream",
     "text": [
      "GeoID              int64\n",
      "Median income    float64\n",
      "dtype: object\n"
     ]
    }
   ],
   "source": [
    "\n",
    "# Remove non-numeric characters (e.g., '$', ',' in currency formats)\n",
    "incomedf['Median income'] = incomedf['Median income'].replace('[\\$,]', '', regex=True)\n",
    "\n",
    "# Convert to numeric\n",
    "incomedf['Median income'] = pd.to_numeric(incomedf['Median income'], errors='coerce')\n",
    "\n",
    "# Check if the conversion was successful\n",
    "print(incomedf[['GeoID', 'Median income']].dtypes)  # Should show 'Median income' as float or int"
   ]
  },
  {
   "cell_type": "code",
   "execution_count": 37,
   "id": "d6585fd6-a838-4473-ab81-ced667a8ccdf",
   "metadata": {},
   "outputs": [],
   "source": [
    "incomedf['Median income'] = pd.to_numeric(incomedf['Median income'], errors='coerce')\n",
    "incomedf['GeoID'] = pd.to_numeric(incomedf['GeoID'], errors='coerce')"
   ]
  },
  {
   "cell_type": "code",
   "execution_count": 38,
   "id": "9dd4f205-13a3-4269-a12c-1590f4079d18",
   "metadata": {},
   "outputs": [
    {
     "name": "stdout",
     "output_type": "stream",
     "text": [
      "GeoID              int64\n",
      "Median income    float64\n",
      "dtype: object\n"
     ]
    }
   ],
   "source": [
    "print(incomedf[['GeoID', 'Median income']].dtypes)"
   ]
  },
  {
   "cell_type": "code",
   "execution_count": 39,
   "id": "a8cf8e4c-19d8-4d70-9ce0-ff3c13d4487f",
   "metadata": {},
   "outputs": [
    {
     "name": "stdout",
     "output_type": "stream",
     "text": [
      "64\n",
      "count      2434.000000\n",
      "mean      88343.781841\n",
      "std       37617.918565\n",
      "min        9417.000000\n",
      "25%       61205.750000\n",
      "50%       81759.500000\n",
      "75%      107532.500000\n",
      "max      249432.000000\n",
      "Name: Median income, dtype: float64\n"
     ]
    }
   ],
   "source": [
    "print(incomedf['Median income'].isna().sum())  # Count NaNs\n",
    "print(incomedf['Median income'].describe())    # Check summary statistics\n"
   ]
  },
  {
   "cell_type": "code",
   "execution_count": 51,
   "id": "08d74281-a36b-43ec-a9b2-9ed7a5311f52",
   "metadata": {
    "scrolled": true
   },
   "outputs": [
    {
     "data": {
      "text/plain": [
       "<Axes: title={'center': 'Top 25 Census Tracts with Highest MHHI in Los Angeles County'}, xlabel='GeoID'>"
      ]
     },
     "execution_count": 51,
     "metadata": {},
     "output_type": "execute_result"
    }
   ],
   "source": [
    "incomedf.head(25).plot.bar(\n",
    "    x='GeoID',\n",
    "    y='Median income',\n",
    "    title='Top 25 Census Tracts with Highest MHHI in Los Angeles County'\n",
    ")"
   ]
  },
  {
   "cell_type": "markdown",
   "id": "63b196b4-99e7-4e34-a90d-923071ff63be",
   "metadata": {},
   "source": [
    "Mapping"
   ]
  },
  {
   "cell_type": "code",
   "execution_count": 41,
   "id": "f15a3c7b-89ff-4150-b520-0a01f235dcd9",
   "metadata": {},
   "outputs": [],
   "source": [
    "import geopandas as gpd"
   ]
  },
  {
   "cell_type": "code",
   "execution_count": 43,
   "id": "046d90c3-6e0a-4311-8c76-b244ccadeba2",
   "metadata": {},
   "outputs": [],
   "source": [
    "tracts = gpd.read_file('Group Data/2020_Census_Tracts.geojson')"
   ]
  },
  {
   "cell_type": "code",
   "execution_count": 44,
   "id": "d71c091d-15e9-4331-9364-2f825a939906",
   "metadata": {},
   "outputs": [
    {
     "data": {
      "text/html": [
       "<div>\n",
       "<style scoped>\n",
       "    .dataframe tbody tr th:only-of-type {\n",
       "        vertical-align: middle;\n",
       "    }\n",
       "\n",
       "    .dataframe tbody tr th {\n",
       "        vertical-align: top;\n",
       "    }\n",
       "\n",
       "    .dataframe thead th {\n",
       "        text-align: right;\n",
       "    }\n",
       "</style>\n",
       "<table border=\"1\" class=\"dataframe\">\n",
       "  <thead>\n",
       "    <tr style=\"text-align: right;\">\n",
       "      <th></th>\n",
       "      <th>OBJECTID</th>\n",
       "      <th>CT20</th>\n",
       "      <th>LABEL</th>\n",
       "      <th>ShapeSTArea</th>\n",
       "      <th>ShapeSTLength</th>\n",
       "      <th>geometry</th>\n",
       "    </tr>\n",
       "  </thead>\n",
       "  <tbody>\n",
       "    <tr>\n",
       "      <th>0</th>\n",
       "      <td>4992</td>\n",
       "      <td>101110</td>\n",
       "      <td>1011.10</td>\n",
       "      <td>1.229562e+07</td>\n",
       "      <td>15083.854287</td>\n",
       "      <td>POLYGON ((-118.29793 34.26323, -118.30082 34.2...</td>\n",
       "    </tr>\n",
       "    <tr>\n",
       "      <th>1</th>\n",
       "      <td>4993</td>\n",
       "      <td>101122</td>\n",
       "      <td>1011.22</td>\n",
       "      <td>2.845774e+07</td>\n",
       "      <td>31671.455844</td>\n",
       "      <td>POLYGON ((-118.27743 34.25991, -118.27743 34.2...</td>\n",
       "    </tr>\n",
       "    <tr>\n",
       "      <th>2</th>\n",
       "      <td>4994</td>\n",
       "      <td>101220</td>\n",
       "      <td>1012.20</td>\n",
       "      <td>7.522093e+06</td>\n",
       "      <td>12698.783810</td>\n",
       "      <td>POLYGON ((-118.27818 34.25577, -118.27887 34.2...</td>\n",
       "    </tr>\n",
       "    <tr>\n",
       "      <th>3</th>\n",
       "      <td>4995</td>\n",
       "      <td>101221</td>\n",
       "      <td>1012.21</td>\n",
       "      <td>3.812000e+06</td>\n",
       "      <td>9161.710543</td>\n",
       "      <td>POLYGON ((-118.28735 34.25591, -118.28863 34.2...</td>\n",
       "    </tr>\n",
       "    <tr>\n",
       "      <th>4</th>\n",
       "      <td>4996</td>\n",
       "      <td>101222</td>\n",
       "      <td>1012.22</td>\n",
       "      <td>3.191371e+06</td>\n",
       "      <td>9980.600461</td>\n",
       "      <td>POLYGON ((-118.28594 34.2559, -118.28697 34.25...</td>\n",
       "    </tr>\n",
       "  </tbody>\n",
       "</table>\n",
       "</div>"
      ],
      "text/plain": [
       "   OBJECTID    CT20    LABEL   ShapeSTArea  ShapeSTLength  \\\n",
       "0      4992  101110  1011.10  1.229562e+07   15083.854287   \n",
       "1      4993  101122  1011.22  2.845774e+07   31671.455844   \n",
       "2      4994  101220  1012.20  7.522093e+06   12698.783810   \n",
       "3      4995  101221  1012.21  3.812000e+06    9161.710543   \n",
       "4      4996  101222  1012.22  3.191371e+06    9980.600461   \n",
       "\n",
       "                                            geometry  \n",
       "0  POLYGON ((-118.29793 34.26323, -118.30082 34.2...  \n",
       "1  POLYGON ((-118.27743 34.25991, -118.27743 34.2...  \n",
       "2  POLYGON ((-118.27818 34.25577, -118.27887 34.2...  \n",
       "3  POLYGON ((-118.28735 34.25591, -118.28863 34.2...  \n",
       "4  POLYGON ((-118.28594 34.2559, -118.28697 34.25...  "
      ]
     },
     "execution_count": 44,
     "metadata": {},
     "output_type": "execute_result"
    }
   ],
   "source": [
    "tracts.head()"
   ]
  },
  {
   "cell_type": "code",
   "execution_count": 45,
   "id": "336e4064-496f-4238-b069-11355124efab",
   "metadata": {},
   "outputs": [
    {
     "data": {
      "text/plain": [
       "<Axes: >"
      ]
     },
     "execution_count": 45,
     "metadata": {},
     "output_type": "execute_result"
    }
   ],
   "source": [
    "tracts.plot(figsize=(12,10))"
   ]
  },
  {
   "cell_type": "code",
   "execution_count": 46,
   "id": "78c14707-3833-4060-ae98-330d54b8a82d",
   "metadata": {},
   "outputs": [
    {
     "data": {
      "text/html": [
       "<div>\n",
       "<style scoped>\n",
       "    .dataframe tbody tr th:only-of-type {\n",
       "        vertical-align: middle;\n",
       "    }\n",
       "\n",
       "    .dataframe tbody tr th {\n",
       "        vertical-align: top;\n",
       "    }\n",
       "\n",
       "    .dataframe thead th {\n",
       "        text-align: right;\n",
       "    }\n",
       "</style>\n",
       "<table border=\"1\" class=\"dataframe\">\n",
       "  <thead>\n",
       "    <tr style=\"text-align: right;\">\n",
       "      <th></th>\n",
       "      <th>CT20</th>\n",
       "      <th>geometry</th>\n",
       "    </tr>\n",
       "  </thead>\n",
       "  <tbody>\n",
       "    <tr>\n",
       "      <th>0</th>\n",
       "      <td>101110</td>\n",
       "      <td>POLYGON ((-118.29793 34.26323, -118.30082 34.2...</td>\n",
       "    </tr>\n",
       "    <tr>\n",
       "      <th>1</th>\n",
       "      <td>101122</td>\n",
       "      <td>POLYGON ((-118.27743 34.25991, -118.27743 34.2...</td>\n",
       "    </tr>\n",
       "    <tr>\n",
       "      <th>2</th>\n",
       "      <td>101220</td>\n",
       "      <td>POLYGON ((-118.27818 34.25577, -118.27887 34.2...</td>\n",
       "    </tr>\n",
       "    <tr>\n",
       "      <th>3</th>\n",
       "      <td>101221</td>\n",
       "      <td>POLYGON ((-118.28735 34.25591, -118.28863 34.2...</td>\n",
       "    </tr>\n",
       "    <tr>\n",
       "      <th>4</th>\n",
       "      <td>101222</td>\n",
       "      <td>POLYGON ((-118.28594 34.2559, -118.28697 34.25...</td>\n",
       "    </tr>\n",
       "  </tbody>\n",
       "</table>\n",
       "</div>"
      ],
      "text/plain": [
       "     CT20                                           geometry\n",
       "0  101110  POLYGON ((-118.29793 34.26323, -118.30082 34.2...\n",
       "1  101122  POLYGON ((-118.27743 34.25991, -118.27743 34.2...\n",
       "2  101220  POLYGON ((-118.27818 34.25577, -118.27887 34.2...\n",
       "3  101221  POLYGON ((-118.28735 34.25591, -118.28863 34.2...\n",
       "4  101222  POLYGON ((-118.28594 34.2559, -118.28697 34.25..."
      ]
     },
     "execution_count": 46,
     "metadata": {},
     "output_type": "execute_result"
    }
   ],
   "source": [
    "tracts = tracts[['CT20','geometry']]\n",
    "tracts.head()"
   ]
  },
  {
   "cell_type": "code",
   "execution_count": 48,
   "id": "384fb64e-69e0-4d40-a7c7-7c74dca5d566",
   "metadata": {},
   "outputs": [],
   "source": [
    "# create a FIPS column\n",
    "tracts = tracts.loc[tracts['FIPS'] == ('6' + '037' + tracts['CT20'].astype(str))]"
   ]
  },
  {
   "cell_type": "code",
   "execution_count": 49,
   "id": "a1fd9551-2f5f-4899-94f9-8597892ebc30",
   "metadata": {},
   "outputs": [
    {
     "data": {
      "text/html": [
       "<div>\n",
       "<style scoped>\n",
       "    .dataframe tbody tr th:only-of-type {\n",
       "        vertical-align: middle;\n",
       "    }\n",
       "\n",
       "    .dataframe tbody tr th {\n",
       "        vertical-align: top;\n",
       "    }\n",
       "\n",
       "    .dataframe thead th {\n",
       "        text-align: right;\n",
       "    }\n",
       "</style>\n",
       "<table border=\"1\" class=\"dataframe\">\n",
       "  <thead>\n",
       "    <tr style=\"text-align: right;\">\n",
       "      <th></th>\n",
       "      <th>CT20</th>\n",
       "      <th>geometry</th>\n",
       "      <th>FIPS</th>\n",
       "    </tr>\n",
       "  </thead>\n",
       "  <tbody>\n",
       "    <tr>\n",
       "      <th>0</th>\n",
       "      <td>101110</td>\n",
       "      <td>POLYGON ((-118.29793 34.26323, -118.30082 34.2...</td>\n",
       "      <td>6037101110</td>\n",
       "    </tr>\n",
       "    <tr>\n",
       "      <th>1</th>\n",
       "      <td>101122</td>\n",
       "      <td>POLYGON ((-118.27743 34.25991, -118.27743 34.2...</td>\n",
       "      <td>6037101122</td>\n",
       "    </tr>\n",
       "    <tr>\n",
       "      <th>2</th>\n",
       "      <td>101220</td>\n",
       "      <td>POLYGON ((-118.27818 34.25577, -118.27887 34.2...</td>\n",
       "      <td>6037101220</td>\n",
       "    </tr>\n",
       "    <tr>\n",
       "      <th>3</th>\n",
       "      <td>101221</td>\n",
       "      <td>POLYGON ((-118.28735 34.25591, -118.28863 34.2...</td>\n",
       "      <td>6037101221</td>\n",
       "    </tr>\n",
       "    <tr>\n",
       "      <th>4</th>\n",
       "      <td>101222</td>\n",
       "      <td>POLYGON ((-118.28594 34.2559, -118.28697 34.25...</td>\n",
       "      <td>6037101222</td>\n",
       "    </tr>\n",
       "  </tbody>\n",
       "</table>\n",
       "</div>"
      ],
      "text/plain": [
       "     CT20                                           geometry        FIPS\n",
       "0  101110  POLYGON ((-118.29793 34.26323, -118.30082 34.2...  6037101110\n",
       "1  101122  POLYGON ((-118.27743 34.25991, -118.27743 34.2...  6037101122\n",
       "2  101220  POLYGON ((-118.27818 34.25577, -118.27887 34.2...  6037101220\n",
       "3  101221  POLYGON ((-118.28735 34.25591, -118.28863 34.2...  6037101221\n",
       "4  101222  POLYGON ((-118.28594 34.2559, -118.28697 34.25...  6037101222"
      ]
     },
     "execution_count": 49,
     "metadata": {},
     "output_type": "execute_result"
    }
   ],
   "source": [
    "tracts.head()"
   ]
  },
  {
   "cell_type": "markdown",
   "id": "be0ec72b-4462-436b-8559-0e4544d94f2b",
   "metadata": {},
   "source": [
    "Create a new dataframe based on the join"
   ]
  },
  {
   "cell_type": "code",
   "execution_count": 61,
   "id": "2da46485-0eec-4fdf-8ce2-26879af5da75",
   "metadata": {},
   "outputs": [
    {
     "name": "stdout",
     "output_type": "stream",
     "text": [
      "object\n",
      "int64\n"
     ]
    }
   ],
   "source": [
    "print(tracts['FIPS'].dtype)\n",
    "print(incomedf['GeoID'].dtype)"
   ]
  },
  {
   "cell_type": "code",
   "execution_count": 62,
   "id": "94701eb2-8d66-4c75-84bf-2c95046fe009",
   "metadata": {},
   "outputs": [],
   "source": [
    "# convert to the same data type\n",
    "incomedf['GeoID'] = incomedf['GeoID'].astype(object) "
   ]
  },
  {
   "cell_type": "code",
   "execution_count": 63,
   "id": "93e3da44-91ca-49e3-8bcb-e951759e1467",
   "metadata": {},
   "outputs": [
    {
     "name": "stdout",
     "output_type": "stream",
     "text": [
      "object\n",
      "object\n"
     ]
    }
   ],
   "source": [
    "# confirm it worked\n",
    "print(tracts['FIPS'].dtype)\n",
    "print(incomedf['GeoID'].dtype)"
   ]
  },
  {
   "cell_type": "code",
   "execution_count": 64,
   "id": "91eb2357-617a-4427-8016-fd3842833947",
   "metadata": {},
   "outputs": [],
   "source": [
    "tracts_MHHI = tracts.merge(incomedf, left_on='FIPS', right_on='GeoID')"
   ]
  },
  {
   "cell_type": "code",
   "execution_count": 65,
   "id": "f3ebadde-6cd7-484a-adf3-f1d28f8aa3b0",
   "metadata": {},
   "outputs": [
    {
     "data": {
      "text/html": [
       "<div>\n",
       "<style scoped>\n",
       "    .dataframe tbody tr th:only-of-type {\n",
       "        vertical-align: middle;\n",
       "    }\n",
       "\n",
       "    .dataframe tbody tr th {\n",
       "        vertical-align: top;\n",
       "    }\n",
       "\n",
       "    .dataframe thead th {\n",
       "        text-align: right;\n",
       "    }\n",
       "</style>\n",
       "<table border=\"1\" class=\"dataframe\">\n",
       "  <thead>\n",
       "    <tr style=\"text-align: right;\">\n",
       "      <th></th>\n",
       "      <th>CT20</th>\n",
       "      <th>geometry</th>\n",
       "      <th>FIPS</th>\n",
       "      <th>GeoID</th>\n",
       "      <th>TotalHH</th>\n",
       "      <th>Under10k</th>\n",
       "      <th>$10,000 to $14,999</th>\n",
       "      <th>$15,000 to $24,999</th>\n",
       "      <th>$25,000 to $34,999</th>\n",
       "      <th>$35,000 to $49,999</th>\n",
       "      <th>$50,000 to $74,999</th>\n",
       "      <th>$75,000 to $99,999</th>\n",
       "      <th>$100,000 to $149,999</th>\n",
       "      <th>$150,000 to $199,999</th>\n",
       "      <th>$200,000 or more</th>\n",
       "      <th>Median income</th>\n",
       "      <th>Mean income</th>\n",
       "    </tr>\n",
       "  </thead>\n",
       "  <tbody>\n",
       "  </tbody>\n",
       "</table>\n",
       "</div>"
      ],
      "text/plain": [
       "Empty GeoDataFrame\n",
       "Columns: [CT20, geometry, FIPS, GeoID, TotalHH, Under10k, $10,000 to $14,999, $15,000 to $24,999, $25,000 to $34,999, $35,000 to $49,999, $50,000 to $74,999, $75,000 to $99,999, $100,000 to $149,999, $150,000 to $199,999, $200,000 or more, Median income, Mean income]\n",
       "Index: []"
      ]
     },
     "execution_count": 65,
     "metadata": {},
     "output_type": "execute_result"
    }
   ],
   "source": [
    "tracts_MHHI.head()"
   ]
  },
  {
   "cell_type": "code",
   "execution_count": 66,
   "id": "21b17575-a1ff-47cb-a6c0-352af0972b9d",
   "metadata": {},
   "outputs": [
    {
     "ename": "ValueError",
     "evalue": "aspect must be finite and positive ",
     "output_type": "error",
     "traceback": [
      "\u001b[0;31m---------------------------------------------------------------------------\u001b[0m",
      "\u001b[0;31mValueError\u001b[0m                                Traceback (most recent call last)",
      "Cell \u001b[0;32mIn[66], line 1\u001b[0m\n\u001b[0;32m----> 1\u001b[0m \u001b[43mtracts_MHHI\u001b[49m\u001b[38;5;241;43m.\u001b[39;49m\u001b[43mplot\u001b[49m\u001b[43m(\u001b[49m\u001b[43mfigsize\u001b[49m\u001b[38;5;241;43m=\u001b[39;49m\u001b[43m(\u001b[49m\u001b[38;5;241;43m12\u001b[39;49m\u001b[43m,\u001b[49m\u001b[38;5;241;43m10\u001b[39;49m\u001b[43m)\u001b[49m\u001b[43m,\u001b[49m\n\u001b[1;32m      2\u001b[0m \u001b[43m                 \u001b[49m\u001b[43mcolumn\u001b[49m\u001b[38;5;241;43m=\u001b[39;49m\u001b[38;5;124;43m'\u001b[39;49m\u001b[38;5;124;43mmed_hh_income\u001b[39;49m\u001b[38;5;124;43m'\u001b[39;49m\u001b[43m,\u001b[49m\n\u001b[1;32m      3\u001b[0m \u001b[43m                 \u001b[49m\u001b[43mlegend\u001b[49m\u001b[38;5;241;43m=\u001b[39;49m\u001b[38;5;28;43;01mTrue\u001b[39;49;00m\u001b[43m,\u001b[49m\u001b[43m \u001b[49m\n\u001b[1;32m      4\u001b[0m \u001b[43m                 \u001b[49m\u001b[43mscheme\u001b[49m\u001b[38;5;241;43m=\u001b[39;49m\u001b[38;5;124;43m'\u001b[39;49m\u001b[38;5;124;43mNaturalBreaks\u001b[39;49m\u001b[38;5;124;43m'\u001b[39;49m\u001b[43m)\u001b[49m\n",
      "File \u001b[0;32m/opt/conda/lib/python3.11/site-packages/geopandas/plotting.py:968\u001b[0m, in \u001b[0;36mGeoplotAccessor.__call__\u001b[0;34m(self, *args, **kwargs)\u001b[0m\n\u001b[1;32m    966\u001b[0m kind \u001b[38;5;241m=\u001b[39m kwargs\u001b[38;5;241m.\u001b[39mpop(\u001b[38;5;124m\"\u001b[39m\u001b[38;5;124mkind\u001b[39m\u001b[38;5;124m\"\u001b[39m, \u001b[38;5;124m\"\u001b[39m\u001b[38;5;124mgeo\u001b[39m\u001b[38;5;124m\"\u001b[39m)\n\u001b[1;32m    967\u001b[0m \u001b[38;5;28;01mif\u001b[39;00m kind \u001b[38;5;241m==\u001b[39m \u001b[38;5;124m\"\u001b[39m\u001b[38;5;124mgeo\u001b[39m\u001b[38;5;124m\"\u001b[39m:\n\u001b[0;32m--> 968\u001b[0m     \u001b[38;5;28;01mreturn\u001b[39;00m \u001b[43mplot_dataframe\u001b[49m\u001b[43m(\u001b[49m\u001b[43mdata\u001b[49m\u001b[43m,\u001b[49m\u001b[43m \u001b[49m\u001b[38;5;241;43m*\u001b[39;49m\u001b[43margs\u001b[49m\u001b[43m,\u001b[49m\u001b[43m \u001b[49m\u001b[38;5;241;43m*\u001b[39;49m\u001b[38;5;241;43m*\u001b[39;49m\u001b[43mkwargs\u001b[49m\u001b[43m)\u001b[49m\n\u001b[1;32m    969\u001b[0m \u001b[38;5;28;01mif\u001b[39;00m kind \u001b[38;5;129;01min\u001b[39;00m \u001b[38;5;28mself\u001b[39m\u001b[38;5;241m.\u001b[39m_pandas_kinds:\n\u001b[1;32m    970\u001b[0m     \u001b[38;5;66;03m# Access pandas plots\u001b[39;00m\n\u001b[1;32m    971\u001b[0m     \u001b[38;5;28;01mreturn\u001b[39;00m PlotAccessor(data)(kind\u001b[38;5;241m=\u001b[39mkind, \u001b[38;5;241m*\u001b[39m\u001b[38;5;241m*\u001b[39mkwargs)\n",
      "File \u001b[0;32m/opt/conda/lib/python3.11/site-packages/geopandas/plotting.py:664\u001b[0m, in \u001b[0;36mplot_dataframe\u001b[0;34m(df, column, cmap, color, ax, cax, categorical, legend, scheme, k, vmin, vmax, markersize, figsize, legend_kwds, categories, classification_kwds, missing_kwds, aspect, autolim, **style_kwds)\u001b[0m\n\u001b[1;32m    662\u001b[0m     bounds \u001b[38;5;241m=\u001b[39m df\u001b[38;5;241m.\u001b[39mtotal_bounds\n\u001b[1;32m    663\u001b[0m     y_coord \u001b[38;5;241m=\u001b[39m np\u001b[38;5;241m.\u001b[39mmean([bounds[\u001b[38;5;241m1\u001b[39m], bounds[\u001b[38;5;241m3\u001b[39m]])\n\u001b[0;32m--> 664\u001b[0m     \u001b[43max\u001b[49m\u001b[38;5;241;43m.\u001b[39;49m\u001b[43mset_aspect\u001b[49m\u001b[43m(\u001b[49m\u001b[38;5;241;43m1\u001b[39;49m\u001b[43m \u001b[49m\u001b[38;5;241;43m/\u001b[39;49m\u001b[43m \u001b[49m\u001b[43mnp\u001b[49m\u001b[38;5;241;43m.\u001b[39;49m\u001b[43mcos\u001b[49m\u001b[43m(\u001b[49m\u001b[43my_coord\u001b[49m\u001b[43m \u001b[49m\u001b[38;5;241;43m*\u001b[39;49m\u001b[43m \u001b[49m\u001b[43mnp\u001b[49m\u001b[38;5;241;43m.\u001b[39;49m\u001b[43mpi\u001b[49m\u001b[43m \u001b[49m\u001b[38;5;241;43m/\u001b[39;49m\u001b[43m \u001b[49m\u001b[38;5;241;43m180\u001b[39;49m\u001b[43m)\u001b[49m\u001b[43m)\u001b[49m\n\u001b[1;32m    665\u001b[0m     \u001b[38;5;66;03m# formula ported from R package sp\u001b[39;00m\n\u001b[1;32m    666\u001b[0m     \u001b[38;5;66;03m# https://github.com/edzer/sp/blob/master/R/mapasp.R\u001b[39;00m\n\u001b[1;32m    667\u001b[0m \u001b[38;5;28;01melse\u001b[39;00m:\n\u001b[1;32m    668\u001b[0m     ax\u001b[38;5;241m.\u001b[39mset_aspect(\u001b[38;5;124m\"\u001b[39m\u001b[38;5;124mequal\u001b[39m\u001b[38;5;124m\"\u001b[39m)\n",
      "File \u001b[0;32m/opt/conda/lib/python3.11/site-packages/matplotlib/axes/_base.py:1667\u001b[0m, in \u001b[0;36m_AxesBase.set_aspect\u001b[0;34m(self, aspect, adjustable, anchor, share)\u001b[0m\n\u001b[1;32m   1665\u001b[0m     aspect \u001b[38;5;241m=\u001b[39m \u001b[38;5;28mfloat\u001b[39m(aspect)  \u001b[38;5;66;03m# raise ValueError if necessary\u001b[39;00m\n\u001b[1;32m   1666\u001b[0m     \u001b[38;5;28;01mif\u001b[39;00m aspect \u001b[38;5;241m<\u001b[39m\u001b[38;5;241m=\u001b[39m \u001b[38;5;241m0\u001b[39m \u001b[38;5;129;01mor\u001b[39;00m \u001b[38;5;129;01mnot\u001b[39;00m np\u001b[38;5;241m.\u001b[39misfinite(aspect):\n\u001b[0;32m-> 1667\u001b[0m         \u001b[38;5;28;01mraise\u001b[39;00m \u001b[38;5;167;01mValueError\u001b[39;00m(\u001b[38;5;124m\"\u001b[39m\u001b[38;5;124maspect must be finite and positive \u001b[39m\u001b[38;5;124m\"\u001b[39m)\n\u001b[1;32m   1669\u001b[0m \u001b[38;5;28;01mif\u001b[39;00m share:\n\u001b[1;32m   1670\u001b[0m     axes \u001b[38;5;241m=\u001b[39m {sibling \u001b[38;5;28;01mfor\u001b[39;00m name \u001b[38;5;129;01min\u001b[39;00m \u001b[38;5;28mself\u001b[39m\u001b[38;5;241m.\u001b[39m_axis_names\n\u001b[1;32m   1671\u001b[0m             \u001b[38;5;28;01mfor\u001b[39;00m sibling \u001b[38;5;129;01min\u001b[39;00m \u001b[38;5;28mself\u001b[39m\u001b[38;5;241m.\u001b[39m_shared_axes[name]\u001b[38;5;241m.\u001b[39mget_siblings(\u001b[38;5;28mself\u001b[39m)}\n",
      "\u001b[0;31mValueError\u001b[0m: aspect must be finite and positive "
     ]
    }
   ],
   "source": [
    "tracts_MHHI.plot(figsize=(12,10),\n",
    "                 column='med_hh_income',\n",
    "                 legend=True, \n",
    "                 scheme='NaturalBreaks')"
   ]
  }
 ],
 "metadata": {
  "kernelspec": {
   "display_name": "Python 3 (ipykernel)",
   "language": "python",
   "name": "python3"
  },
  "language_info": {
   "codemirror_mode": {
    "name": "ipython",
    "version": 3
   },
   "file_extension": ".py",
   "mimetype": "text/x-python",
   "name": "python",
   "nbconvert_exporter": "python",
   "pygments_lexer": "ipython3",
   "version": "3.11.9"
  }
 },
 "nbformat": 4,
 "nbformat_minor": 5
}
